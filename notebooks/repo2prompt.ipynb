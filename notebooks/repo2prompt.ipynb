{
 "cells": [
  {
   "cell_type": "markdown",
   "metadata": {
    "id": "H0WyoRb5kAw0"
   },
   "source": [
    "You will need a Github repo URL (public) and a Github access token.\n",
    "You can also use this with private repos but your token will need to have those permissions.\n",
    "\n",
    "Within the build_directory_tree function, you can specify which file extensions should be included in the output.\n",
    "\n",
    "The output is saved to a .txt file with name [repo]-formatted-prompt.txt"
   ]
  },
  {
   "cell_type": "code",
   "execution_count": 2,
   "metadata": {
    "id": "SrLm4adgYrgi"
   },
   "outputs": [],
   "source": [
    "import requests\n",
    "import base64\n",
    "from urllib.parse import urlparse\n",
    "\n",
    "api_call_counter = 0\n",
    "\n",
    "def parse_github_url(url):\n",
    "    \"\"\"\n",
    "    Parses your GitHub URL and extracts the repository owner and name.\n",
    "    \"\"\"\n",
    "    parsed_url = urlparse(url)\n",
    "    path_segments = parsed_url.path.strip(\"/\").split(\"/\")\n",
    "    if len(path_segments) >= 2:\n",
    "        owner, repo = path_segments[0], path_segments[1]\n",
    "        return owner, repo\n",
    "    else:\n",
    "        raise ValueError(\"Invalid GitHub URL provided!\")\n",
    "\n",
    "\n",
    "def fetch_repo_content(owner, repo, path=\"\", token=None):\n",
    "    \"\"\"\n",
    "    Fetches the content of your GitHub repository.\n",
    "    \"\"\"\n",
    "    global api_call_counter\n",
    "    api_call_counter += 1\n",
    "    \n",
    "    base_url = f\"https://api.github.com/repos/{owner}/{repo}/contents/{path}\"\n",
    "    headers = {\"Accept\": \"application/vnd.github.v3+json\"}\n",
    "    if token:\n",
    "        headers[\"Authorization\"] = f\"Bearer {token}\"\n",
    "    response = requests.get(base_url, headers=headers)\n",
    "    if response.status_code == 200:\n",
    "        return response.json()\n",
    "    else:\n",
    "        response.raise_for_status()\n",
    "\n",
    "\n",
    "def get_file_content(file_info):\n",
    "    \"\"\"\n",
    "    Retrieves and decodes the content of files\n",
    "    \"\"\"\n",
    "    if file_info[\"encoding\"] == \"base64\":\n",
    "        return base64.b64decode(file_info[\"content\"]).decode(\"utf-8\")\n",
    "    else:\n",
    "        return file_info[\"content\"]\n",
    "\n",
    "\n",
    "def build_directory_tree(owner, repo, path=\"\", token=None, indent=0, file_paths=[]):\n",
    "    \"\"\"\n",
    "    Builds a string representation of the directory tree and collects file paths.\n",
    "    \"\"\"\n",
    "    items = fetch_repo_content(owner, repo, path, token)\n",
    "    tree_str = \"\"\n",
    "    for item in items:\n",
    "        if \".github\" in item[\"path\"].split(\"/\"):\n",
    "            continue\n",
    "        if item[\"type\"] == \"dir\":\n",
    "            tree_str += \"    \" * indent + f\"[{item['name']}/]\\n\"\n",
    "            tree_str += build_directory_tree(\n",
    "                owner, repo, item[\"path\"], token, indent + 1, file_paths\n",
    "            )[0]\n",
    "        else:\n",
    "            tree_str += \"    \" * indent + f\"{item['name']}\\n\"\n",
    "            # Indicate which file extensions should be included in the prompt!\n",
    "            if item[\"name\"].endswith(\n",
    "                (\".py\", \".ipynb\", \".html\", \".css\", \".js\", \".jsx\", \".rst\", \".md\")\n",
    "            ):\n",
    "                file_paths.append((indent, item[\"path\"]))\n",
    "    return tree_str, file_paths\n",
    "\n",
    "\n",
    "def retrieve_github_repo_info(url, token=None):\n",
    "    \"\"\"\n",
    "    Retrieves and formats repository information, including README, the directory tree,\n",
    "    and file contents, while ignoring the .github folder.\n",
    "    \"\"\"\n",
    "    owner, repo = parse_github_url(url)\n",
    "\n",
    "    try:\n",
    "        readme_info = fetch_repo_content(owner, repo, \"README.md\", token)\n",
    "        readme_content = get_file_content(readme_info)\n",
    "        formatted_string = f\"README.md:\\n```\\n{readme_content}\\n```\\n\\n\"\n",
    "    except Exception:\n",
    "        formatted_string = \"README.md: Not found or error fetching README\\n\\n\"\n",
    "\n",
    "    directory_tree, file_paths = build_directory_tree(owner, repo, token=token)\n",
    "\n",
    "    formatted_string += f\"Directory Structure:\\n{directory_tree}\\n\"\n",
    "\n",
    "    for indent, path in file_paths:\n",
    "        file_info = fetch_repo_content(owner, repo, path, token)\n",
    "        file_content = get_file_content(file_info)\n",
    "        formatted_string += (\n",
    "            \"\\n\"\n",
    "            + \"    \" * indent\n",
    "            + f\"{path}:\\n\"\n",
    "            + \"    \" * indent\n",
    "            + \"```\\n\"\n",
    "            + file_content\n",
    "            + \"\\n\"\n",
    "            + \"    \" * indent\n",
    "            + \"```\\n\"\n",
    "        )\n",
    "\n",
    "    return formatted_string"
   ]
  },
  {
   "cell_type": "code",
   "execution_count": 3,
   "metadata": {
    "colab": {
     "base_uri": "https://localhost:8080/"
    },
    "id": "cuV5LirEa5jI",
    "outputId": "e89a5307-03f8-48e4-d721-88bb5c32e55c"
   },
   "outputs": [
    {
     "name": "stdout",
     "output_type": "stream",
     "text": [
      "Repository information has been saved to portfolio-tracker-formatted-prompt.txt\n",
      "Number of API calls: 18\n"
     ]
    }
   ],
   "source": [
    "# You provide a Github repo URL and a Github personal access token.\n",
    "# How to get an access token: https://docs.github.com/en/authentication/keeping-your-account-and-data-secure/managing-your-personal-access-tokens\n",
    "github_url = \"https://github.com/magurh/portfolio-tracker\"\n",
    "# token = # Github access token (go to Developer Settings to generate one)\n",
    "\n",
    "owner, repo = parse_github_url(github_url)\n",
    "output_file_name = f\"{repo}-formatted-prompt.txt\"\n",
    "\n",
    "formatted_repo_info = retrieve_github_repo_info(github_url)  # , token = token)\n",
    "with open(output_file_name, \"w\", encoding=\"utf-8\") as file:\n",
    "    file.write(formatted_repo_info)\n",
    "\n",
    "print(f\"Repository information has been saved to {output_file_name}\")\n",
    "print(f\"Number of API calls: {api_call_counter}\")"
   ]
  },
  {
   "cell_type": "code",
   "execution_count": null,
   "metadata": {
    "id": "rRBY0el6cDg5"
   },
   "outputs": [],
   "source": []
  }
 ],
 "metadata": {
  "colab": {
   "provenance": []
  },
  "kernelspec": {
   "display_name": "Python 3 (ipykernel)",
   "language": "python",
   "name": "python3"
  },
  "language_info": {
   "codemirror_mode": {
    "name": "ipython",
    "version": 3
   },
   "file_extension": ".py",
   "mimetype": "text/x-python",
   "name": "python",
   "nbconvert_exporter": "python",
   "pygments_lexer": "ipython3",
   "version": "3.11.3"
  }
 },
 "nbformat": 4,
 "nbformat_minor": 4
}
